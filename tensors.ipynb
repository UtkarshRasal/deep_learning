{
  "nbformat": 4,
  "nbformat_minor": 0,
  "metadata": {
    "colab": {
      "provenance": [],
      "gpuType": "T4",
      "authorship_tag": "ABX9TyNHhid0TJCQm8soNdBCMmJw",
      "include_colab_link": true
    },
    "kernelspec": {
      "name": "python3",
      "display_name": "Python 3"
    },
    "language_info": {
      "name": "python"
    },
    "accelerator": "GPU"
  },
  "cells": [
    {
      "cell_type": "markdown",
      "metadata": {
        "id": "view-in-github",
        "colab_type": "text"
      },
      "source": [
        "<a href=\"https://colab.research.google.com/github/UtkarshRasal/deep_learning/blob/master/tensors.ipynb\" target=\"_parent\"><img src=\"https://colab.research.google.com/assets/colab-badge.svg\" alt=\"Open In Colab\"/></a>"
      ]
    },
    {
      "cell_type": "code",
      "source": [
        "# starting with tensors"
      ],
      "metadata": {
        "id": "QBwHVqsNlL9R"
      },
      "execution_count": 2,
      "outputs": []
    },
    {
      "cell_type": "markdown",
      "source": [
        "### Tensors\n",
        "\n",
        "\n",
        "*   Tensor is a specialized multidimensional array\n",
        "*   default datatype is float32\n",
        "*   Very similar to numpy arrays but with are good for higher computational efficieny\n",
        "\n",
        "\n",
        "\n"
      ],
      "metadata": {
        "id": "BgJnWuylnLxV"
      }
    },
    {
      "cell_type": "code",
      "source": [
        "import torch, numpy as np"
      ],
      "metadata": {
        "id": "ona8IpMlorCy"
      },
      "execution_count": 3,
      "outputs": []
    },
    {
      "cell_type": "code",
      "source": [
        "tensor_2d = torch.randn(3,4) # will create a 2 dimensional array with 3 rows and 4 columns"
      ],
      "metadata": {
        "id": "hB7vic77pHfF"
      },
      "execution_count": 4,
      "outputs": []
    },
    {
      "cell_type": "code",
      "source": [
        "tensor_2d"
      ],
      "metadata": {
        "colab": {
          "base_uri": "https://localhost:8080/"
        },
        "id": "o-vWilTaploy",
        "outputId": "2a31587f-7769-4db4-e3b3-d0ff92b8688a"
      },
      "execution_count": 5,
      "outputs": [
        {
          "output_type": "execute_result",
          "data": {
            "text/plain": [
              "tensor([[ 0.9818, -0.3611, -1.2323,  0.1980],\n",
              "        [ 0.1681, -1.2922,  0.4425,  0.6587],\n",
              "        [ 0.1248, -1.0478,  0.2641,  0.6748]])"
            ]
          },
          "metadata": {},
          "execution_count": 5
        }
      ]
    },
    {
      "cell_type": "code",
      "source": [
        "tensor_3d = torch.zeros(2,3,4) # this will create a 3 dimensional array, torch.zeros is just to create tensors containing only '0's"
      ],
      "metadata": {
        "id": "J5mYpuUPpmkh"
      },
      "execution_count": 6,
      "outputs": []
    },
    {
      "cell_type": "code",
      "source": [
        "tensor_3d"
      ],
      "metadata": {
        "colab": {
          "base_uri": "https://localhost:8080/"
        },
        "id": "wAY2k2itqEr0",
        "outputId": "854ef8a0-7855-4174-a6fe-24bacc0a50b5"
      },
      "execution_count": 7,
      "outputs": [
        {
          "output_type": "execute_result",
          "data": {
            "text/plain": [
              "tensor([[[0., 0., 0., 0.],\n",
              "         [0., 0., 0., 0.],\n",
              "         [0., 0., 0., 0.]],\n",
              "\n",
              "        [[0., 0., 0., 0.],\n",
              "         [0., 0., 0., 0.],\n",
              "         [0., 0., 0., 0.]]])"
            ]
          },
          "metadata": {},
          "execution_count": 7
        }
      ]
    },
    {
      "cell_type": "code",
      "source": [
        "# create tensors using numpy arrays\n",
        "np1 = np.random.rand(3,4)\n",
        "np1"
      ],
      "metadata": {
        "colab": {
          "base_uri": "https://localhost:8080/"
        },
        "id": "uQjZsJYaqH9b",
        "outputId": "7738290e-37a4-4dca-8ccc-84d4a76a9f14"
      },
      "execution_count": 8,
      "outputs": [
        {
          "output_type": "execute_result",
          "data": {
            "text/plain": [
              "array([[0.19126585, 0.2272485 , 0.51245808, 0.9863589 ],\n",
              "       [0.6242306 , 0.55419874, 0.52415205, 0.92251361],\n",
              "       [0.05590119, 0.30703897, 0.78282762, 0.81560271]])"
            ]
          },
          "metadata": {},
          "execution_count": 8
        }
      ]
    },
    {
      "cell_type": "code",
      "source": [
        "my_tensors = torch.tensor(np1)\n",
        "my_tensors"
      ],
      "metadata": {
        "colab": {
          "base_uri": "https://localhost:8080/"
        },
        "id": "G-jWwjyoqtOD",
        "outputId": "8256e491-56cd-4e3e-a266-e294c2145c14"
      },
      "execution_count": 9,
      "outputs": [
        {
          "output_type": "execute_result",
          "data": {
            "text/plain": [
              "tensor([[0.1913, 0.2272, 0.5125, 0.9864],\n",
              "        [0.6242, 0.5542, 0.5242, 0.9225],\n",
              "        [0.0559, 0.3070, 0.7828, 0.8156]], dtype=torch.float64)"
            ]
          },
          "metadata": {},
          "execution_count": 9
        }
      ]
    },
    {
      "cell_type": "code",
      "source": [
        "# another way for doing the same thing\n",
        "my_tensors = torch.from_numpy(np1)\n",
        "my_tensors"
      ],
      "metadata": {
        "colab": {
          "base_uri": "https://localhost:8080/"
        },
        "id": "p3IFm9PBq7MB",
        "outputId": "97cff4c0-6597-49ec-ee8a-8ba3aa0aad95"
      },
      "execution_count": 10,
      "outputs": [
        {
          "output_type": "execute_result",
          "data": {
            "text/plain": [
              "tensor([[0.1913, 0.2272, 0.5125, 0.9864],\n",
              "        [0.6242, 0.5542, 0.5242, 0.9225],\n",
              "        [0.0559, 0.3070, 0.7828, 0.8156]], dtype=torch.float64)"
            ]
          },
          "metadata": {},
          "execution_count": 10
        }
      ]
    },
    {
      "cell_type": "markdown",
      "source": [
        "### check the dimension of tensor using ndim"
      ],
      "metadata": {
        "id": "nB_OULDY_NJy"
      }
    },
    {
      "cell_type": "code",
      "source": [
        "# scaler\n",
        "scaler_tensor = torch.tensor(7) # 0 dimensional vector OR scaler\n",
        "print(f\"{scaler_tensor} - {scaler_tensor.ndim} dimensional\")"
      ],
      "metadata": {
        "id": "l0o4Hvo-rARV",
        "outputId": "cef17f07-2cef-41fe-a173-6aae11c93715",
        "colab": {
          "base_uri": "https://localhost:8080/"
        }
      },
      "execution_count": 19,
      "outputs": [
        {
          "output_type": "stream",
          "name": "stdout",
          "text": [
            "7 - 0 dimensional\n"
          ]
        }
      ]
    },
    {
      "cell_type": "code",
      "source": [
        "# One dimensional array\n",
        "one_tensor = torch.tensor([1, 2, 3, 4])\n",
        "print(f\"{one_tensor} - {one_tensor.ndim} dimensional\")"
      ],
      "metadata": {
        "id": "_rHqOjZc-6k3",
        "outputId": "03d0045c-a862-4fce-8bbc-ebab58c66e9b",
        "colab": {
          "base_uri": "https://localhost:8080/"
        }
      },
      "execution_count": 20,
      "outputs": [
        {
          "output_type": "stream",
          "name": "stdout",
          "text": [
            "tensor([1, 2, 3, 4]) - 1 dimensional\n"
          ]
        }
      ]
    },
    {
      "cell_type": "code",
      "source": [
        "# 2 dimensional array\n",
        "two_tensor = torch.randn(2,4)\n",
        "print(f\"{two_tensor} - {two_tensor.ndim} dimensional\")"
      ],
      "metadata": {
        "id": "Jr5nv8a3_Toe",
        "outputId": "9045ae80-ac19-4a65-b1a7-c6e4ab023b5f",
        "colab": {
          "base_uri": "https://localhost:8080/"
        }
      },
      "execution_count": 22,
      "outputs": [
        {
          "output_type": "stream",
          "name": "stdout",
          "text": [
            "tensor([[ 0.8701,  1.3223, -0.6874, -0.8265],\n",
            "        [-0.1282, -0.4565, -0.2253, -0.3930]]) - 2 dimensional\n"
          ]
        }
      ]
    },
    {
      "cell_type": "code",
      "source": [
        "# 3 dimensional array\n",
        "three_tensor = torch.randn(2,4, 1)\n",
        "print(f\"{three_tensor} - {three_tensor.ndim} dimensional\")"
      ],
      "metadata": {
        "id": "LBuYktmy_xoe",
        "outputId": "c6741f89-25a5-478d-cf72-c6101132bbb3",
        "colab": {
          "base_uri": "https://localhost:8080/"
        }
      },
      "execution_count": 23,
      "outputs": [
        {
          "output_type": "stream",
          "name": "stdout",
          "text": [
            "tensor([[[-0.6445],\n",
            "         [ 1.4866],\n",
            "         [-0.2101],\n",
            "         [-0.5722]],\n",
            "\n",
            "        [[-0.5681],\n",
            "         [-1.2543],\n",
            "         [ 0.6865],\n",
            "         [-0.9128]]]) - 3 dimensional\n"
          ]
        }
      ]
    },
    {
      "cell_type": "markdown",
      "source": [
        "### Retrieve integer value from scaler tensor"
      ],
      "metadata": {
        "id": "jz6iz3pbABa9"
      }
    },
    {
      "cell_type": "code",
      "source": [
        "scaler_tensor = torch.tensor(5)\n",
        "scaler_tensor"
      ],
      "metadata": {
        "id": "ow1JmlaH_7jT",
        "outputId": "f76f285b-85ac-497b-c2eb-5fccb33121da",
        "colab": {
          "base_uri": "https://localhost:8080/"
        }
      },
      "execution_count": 25,
      "outputs": [
        {
          "output_type": "execute_result",
          "data": {
            "text/plain": [
              "tensor(5)"
            ]
          },
          "metadata": {},
          "execution_count": 25
        }
      ]
    },
    {
      "cell_type": "code",
      "source": [
        "scaler_tensor.item() # will return the integer value from a single tensor. Only works with single tensor"
      ],
      "metadata": {
        "id": "0GaJpEtaAIBc",
        "outputId": "6ef3b5e3-2202-4c01-c3e3-937205db4c36",
        "colab": {
          "base_uri": "https://localhost:8080/"
        }
      },
      "execution_count": 26,
      "outputs": [
        {
          "output_type": "execute_result",
          "data": {
            "text/plain": [
              "5"
            ]
          },
          "metadata": {},
          "execution_count": 26
        }
      ]
    },
    {
      "cell_type": "code",
      "source": [
        "torch.tensor(5).ndim"
      ],
      "metadata": {
        "id": "SDQG4zCNAMaC",
        "outputId": "68fb98bf-da32-4e89-b667-481b5ee04c4f",
        "colab": {
          "base_uri": "https://localhost:8080/"
        }
      },
      "execution_count": 28,
      "outputs": [
        {
          "output_type": "execute_result",
          "data": {
            "text/plain": [
              "0"
            ]
          },
          "metadata": {},
          "execution_count": 28
        }
      ]
    },
    {
      "cell_type": "markdown",
      "source": [
        "## Range\n"
      ],
      "metadata": {
        "id": "HhQ2lcqyHjzS"
      }
    },
    {
      "cell_type": "code",
      "source": [
        "new_tensor = torch.arange(1, 10,1)\n",
        "new_tensor"
      ],
      "metadata": {
        "id": "qax1NXQDBMKb",
        "outputId": "27e8a3c8-68ca-498a-c691-fe6f6b9cddaf",
        "colab": {
          "base_uri": "https://localhost:8080/"
        }
      },
      "execution_count": 45,
      "outputs": [
        {
          "output_type": "execute_result",
          "data": {
            "text/plain": [
              "tensor([1, 2, 3, 4, 5, 6, 7, 8, 9])"
            ]
          },
          "metadata": {},
          "execution_count": 45
        }
      ]
    },
    {
      "cell_type": "markdown",
      "source": [
        "## Tensor Like"
      ],
      "metadata": {
        "id": "QRbxAORoJTzP"
      }
    },
    {
      "cell_type": "code",
      "source": [
        "new_tensor.size()\n"
      ],
      "metadata": {
        "id": "nkzo0D2NIzbj",
        "outputId": "5dd3615a-5b61-4296-b214-ca92ef65ecde",
        "colab": {
          "base_uri": "https://localhost:8080/"
        }
      },
      "execution_count": 47,
      "outputs": [
        {
          "output_type": "execute_result",
          "data": {
            "text/plain": [
              "torch.Size([9])"
            ]
          },
          "metadata": {},
          "execution_count": 47
        }
      ]
    },
    {
      "cell_type": "code",
      "source": [],
      "metadata": {
        "id": "m0TeUpi_Jhy1"
      },
      "execution_count": null,
      "outputs": []
    }
  ]
}