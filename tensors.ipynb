{
  "nbformat": 4,
  "nbformat_minor": 0,
  "metadata": {
    "colab": {
      "provenance": [],
      "gpuType": "T4",
      "authorship_tag": "ABX9TyNMlRHVfpzLjN2aoNZt0Vnk",
      "include_colab_link": true
    },
    "kernelspec": {
      "name": "python3",
      "display_name": "Python 3"
    },
    "language_info": {
      "name": "python"
    },
    "accelerator": "GPU"
  },
  "cells": [
    {
      "cell_type": "markdown",
      "metadata": {
        "id": "view-in-github",
        "colab_type": "text"
      },
      "source": [
        "<a href=\"https://colab.research.google.com/github/UtkarshRasal/deep_learning/blob/master/tensors.ipynb\" target=\"_parent\"><img src=\"https://colab.research.google.com/assets/colab-badge.svg\" alt=\"Open In Colab\"/></a>"
      ]
    },
    {
      "cell_type": "code",
      "source": [
        "# starting with tensors"
      ],
      "metadata": {
        "id": "QBwHVqsNlL9R"
      },
      "execution_count": null,
      "outputs": []
    },
    {
      "cell_type": "markdown",
      "source": [
        "### Tensors\n",
        "\n",
        "\n",
        "*   Tensor is a specialized multidimensional array\n",
        "*   default datatype is float32\n",
        "*   Very similar to numpy arrays but with are good for higher computational efficieny\n",
        "\n",
        "\n",
        "\n"
      ],
      "metadata": {
        "id": "BgJnWuylnLxV"
      }
    },
    {
      "cell_type": "code",
      "source": [
        "import torch, numpy as np"
      ],
      "metadata": {
        "id": "ona8IpMlorCy"
      },
      "execution_count": 11,
      "outputs": []
    },
    {
      "cell_type": "code",
      "source": [
        "tensor_2d = torch.randn(3,4) # will create a 2 dimensional array with 3 rows and 4 columns"
      ],
      "metadata": {
        "id": "hB7vic77pHfF"
      },
      "execution_count": 6,
      "outputs": []
    },
    {
      "cell_type": "code",
      "source": [
        "tensor_2d"
      ],
      "metadata": {
        "colab": {
          "base_uri": "https://localhost:8080/"
        },
        "id": "o-vWilTaploy",
        "outputId": "3d1dd2d5-0eed-4b2f-8036-149a8242f4e4"
      },
      "execution_count": 7,
      "outputs": [
        {
          "output_type": "execute_result",
          "data": {
            "text/plain": [
              "tensor([[ 0.5578, -0.1357,  0.9486,  2.4311],\n",
              "        [ 0.8154, -0.8178,  1.6905, -0.0900],\n",
              "        [ 0.5434, -0.3292,  1.4527, -1.0265]])"
            ]
          },
          "metadata": {},
          "execution_count": 7
        }
      ]
    },
    {
      "cell_type": "code",
      "source": [
        "tensor_3d = torch.zeros(2,3,4) # this will create a 3 dimensional array, torch.zeros is just to create tensors containing only '0's"
      ],
      "metadata": {
        "id": "J5mYpuUPpmkh"
      },
      "execution_count": 9,
      "outputs": []
    },
    {
      "cell_type": "code",
      "source": [
        "tensor_3d"
      ],
      "metadata": {
        "colab": {
          "base_uri": "https://localhost:8080/"
        },
        "id": "wAY2k2itqEr0",
        "outputId": "c45349d7-5cbf-45db-c90d-38b40018735e"
      },
      "execution_count": 10,
      "outputs": [
        {
          "output_type": "execute_result",
          "data": {
            "text/plain": [
              "tensor([[[0., 0., 0., 0.],\n",
              "         [0., 0., 0., 0.],\n",
              "         [0., 0., 0., 0.]],\n",
              "\n",
              "        [[0., 0., 0., 0.],\n",
              "         [0., 0., 0., 0.],\n",
              "         [0., 0., 0., 0.]]])"
            ]
          },
          "metadata": {},
          "execution_count": 10
        }
      ]
    },
    {
      "cell_type": "code",
      "source": [
        "# create tensors using numpy arrays\n",
        "np1 = np.random.rand(3,4)\n",
        "np1"
      ],
      "metadata": {
        "colab": {
          "base_uri": "https://localhost:8080/"
        },
        "id": "uQjZsJYaqH9b",
        "outputId": "7ced9c62-7afe-408d-c0b1-40d9d7d8bb96"
      },
      "execution_count": 15,
      "outputs": [
        {
          "output_type": "execute_result",
          "data": {
            "text/plain": [
              "array([[0.16267144, 0.28915764, 0.19721475, 0.79016832],\n",
              "       [0.3107467 , 0.49779786, 0.5021194 , 0.57993486],\n",
              "       [0.41795211, 0.7114    , 0.64200627, 0.46922821]])"
            ]
          },
          "metadata": {},
          "execution_count": 15
        }
      ]
    },
    {
      "cell_type": "code",
      "source": [
        "my_tensors = torch.tensor(np1)\n",
        "my_tensors"
      ],
      "metadata": {
        "colab": {
          "base_uri": "https://localhost:8080/"
        },
        "id": "G-jWwjyoqtOD",
        "outputId": "c63a5030-4c0e-411a-f0f3-002ef24c6b30"
      },
      "execution_count": 16,
      "outputs": [
        {
          "output_type": "execute_result",
          "data": {
            "text/plain": [
              "tensor([[0.1627, 0.2892, 0.1972, 0.7902],\n",
              "        [0.3107, 0.4978, 0.5021, 0.5799],\n",
              "        [0.4180, 0.7114, 0.6420, 0.4692]], dtype=torch.float64)"
            ]
          },
          "metadata": {},
          "execution_count": 16
        }
      ]
    },
    {
      "cell_type": "code",
      "source": [
        "# another way for doing the same thing\n",
        "my_tensors = torch.from_numpy(np1)\n",
        "my_tensors"
      ],
      "metadata": {
        "colab": {
          "base_uri": "https://localhost:8080/"
        },
        "id": "p3IFm9PBq7MB",
        "outputId": "a1bd83ea-422a-4b36-d551-afbdb8979199"
      },
      "execution_count": 17,
      "outputs": [
        {
          "output_type": "execute_result",
          "data": {
            "text/plain": [
              "tensor([[0.1627, 0.2892, 0.1972, 0.7902],\n",
              "        [0.3107, 0.4978, 0.5021, 0.5799],\n",
              "        [0.4180, 0.7114, 0.6420, 0.4692]], dtype=torch.float64)"
            ]
          },
          "metadata": {},
          "execution_count": 17
        }
      ]
    },
    {
      "cell_type": "code",
      "source": [],
      "metadata": {
        "id": "l0o4Hvo-rARV"
      },
      "execution_count": null,
      "outputs": []
    }
  ]
}