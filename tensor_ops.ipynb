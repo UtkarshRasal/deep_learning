{
  "nbformat": 4,
  "nbformat_minor": 0,
  "metadata": {
    "colab": {
      "provenance": [],
      "gpuType": "T4",
      "authorship_tag": "ABX9TyPi7ACZVQ6gpp/R1n5ZeOBM",
      "include_colab_link": true
    },
    "kernelspec": {
      "name": "python3",
      "display_name": "Python 3"
    },
    "language_info": {
      "name": "python"
    },
    "accelerator": "GPU"
  },
  "cells": [
    {
      "cell_type": "markdown",
      "metadata": {
        "id": "view-in-github",
        "colab_type": "text"
      },
      "source": [
        "<a href=\"https://colab.research.google.com/github/UtkarshRasal/deep_learning/blob/master/tensor_ops.ipynb\" target=\"_parent\"><img src=\"https://colab.research.google.com/assets/colab-badge.svg\" alt=\"Open In Colab\"/></a>"
      ]
    },
    {
      "cell_type": "markdown",
      "source": [
        "# Tensor Ops"
      ],
      "metadata": {
        "id": "_hRmQt2SsUIO"
      }
    },
    {
      "cell_type": "code",
      "source": [
        "import torch"
      ],
      "metadata": {
        "id": "AQYLiZoKsWet"
      },
      "execution_count": 9,
      "outputs": []
    },
    {
      "cell_type": "code",
      "source": [
        "my_torch = torch.arange(10)\n",
        "my_torch"
      ],
      "metadata": {
        "colab": {
          "base_uri": "https://localhost:8080/"
        },
        "id": "j4Ccfp1FsX0L",
        "outputId": "973e4797-bc8d-4043-e36b-d640c7947749"
      },
      "execution_count": 10,
      "outputs": [
        {
          "output_type": "execute_result",
          "data": {
            "text/plain": [
              "tensor([0, 1, 2, 3, 4, 5, 6, 7, 8, 9])"
            ]
          },
          "metadata": {},
          "execution_count": 10
        }
      ]
    },
    {
      "cell_type": "markdown",
      "source": [
        "## reshape and view"
      ],
      "metadata": {
        "id": "I51Cy2e-wdZF"
      }
    },
    {
      "cell_type": "code",
      "source": [
        "\n",
        "my_torch = my_torch.reshape(2,5) #changing the shape of tensors like going from 1-D to 2-D\n",
        "my_torch"
      ],
      "metadata": {
        "colab": {
          "base_uri": "https://localhost:8080/"
        },
        "id": "KWaXxiwpsarK",
        "outputId": "e0263d08-8af9-45b3-849e-8b494cb53db1"
      },
      "execution_count": 11,
      "outputs": [
        {
          "output_type": "execute_result",
          "data": {
            "text/plain": [
              "tensor([[0, 1, 2, 3, 4],\n",
              "        [5, 6, 7, 8, 9]])"
            ]
          },
          "metadata": {},
          "execution_count": 11
        }
      ]
    },
    {
      "cell_type": "code",
      "source": [
        "my_torch = my_torch.reshape(2,6) # we will get an error because the reshaping will not be proper because in 10 items you can't split the data into 2 rows and 6 columns"
      ],
      "metadata": {
        "colab": {
          "base_uri": "https://localhost:8080/",
          "height": 176
        },
        "id": "a5P5TMzts_se",
        "outputId": "fd30c745-277e-4017-bb29-c8c2251564a3"
      },
      "execution_count": 12,
      "outputs": [
        {
          "output_type": "error",
          "ename": "RuntimeError",
          "evalue": "shape '[2, 6]' is invalid for input of size 10",
          "traceback": [
            "\u001b[0;31m---------------------------------------------------------------------------\u001b[0m",
            "\u001b[0;31mRuntimeError\u001b[0m                              Traceback (most recent call last)",
            "\u001b[0;32m<ipython-input-12-bd4d5d190762>\u001b[0m in \u001b[0;36m<cell line: 0>\u001b[0;34m()\u001b[0m\n\u001b[0;32m----> 1\u001b[0;31m \u001b[0mmy_torch\u001b[0m \u001b[0;34m=\u001b[0m \u001b[0mmy_torch\u001b[0m\u001b[0;34m.\u001b[0m\u001b[0mreshape\u001b[0m\u001b[0;34m(\u001b[0m\u001b[0;36m2\u001b[0m\u001b[0;34m,\u001b[0m\u001b[0;36m6\u001b[0m\u001b[0;34m)\u001b[0m \u001b[0;31m# we will get an error because the reshaping will not be proper because in 10 items you can't split the data into 2 rows and 6 columns\u001b[0m\u001b[0;34m\u001b[0m\u001b[0;34m\u001b[0m\u001b[0m\n\u001b[0m",
            "\u001b[0;31mRuntimeError\u001b[0m: shape '[2, 6]' is invalid for input of size 10"
          ]
        }
      ]
    },
    {
      "cell_type": "markdown",
      "source": [
        "### reshape using -1, if we don't know the numbers of items"
      ],
      "metadata": {
        "id": "fVJ68nM2wkOa"
      }
    },
    {
      "cell_type": "code",
      "source": [
        "\n",
        "my_tensors = torch.arange(10)\n",
        "my_tensors"
      ],
      "metadata": {
        "colab": {
          "base_uri": "https://localhost:8080/"
        },
        "id": "yNZKRhkBtack",
        "outputId": "370e200a-0576-4b98-f17e-e6ccda58e78d"
      },
      "execution_count": 13,
      "outputs": [
        {
          "output_type": "execute_result",
          "data": {
            "text/plain": [
              "tensor([0, 1, 2, 3, 4, 5, 6, 7, 8, 9])"
            ]
          },
          "metadata": {},
          "execution_count": 13
        }
      ]
    },
    {
      "cell_type": "code",
      "source": [
        "reshaped_tensors = my_tensors.reshape(2, -1)\n",
        "reshaped_tensors\n"
      ],
      "metadata": {
        "colab": {
          "base_uri": "https://localhost:8080/"
        },
        "id": "Q_bQ5FAktnxa",
        "outputId": "7c3e45e2-8c7f-409a-afdb-13456bacd9e8"
      },
      "execution_count": 14,
      "outputs": [
        {
          "output_type": "execute_result",
          "data": {
            "text/plain": [
              "tensor([[0, 1, 2, 3, 4],\n",
              "        [5, 6, 7, 8, 9]])"
            ]
          },
          "metadata": {},
          "execution_count": 14
        }
      ]
    },
    {
      "cell_type": "code",
      "source": [
        "reshaped_tensors = my_tensors.reshape(3, -1) # again this error because we cannot split data of 10 tensors in 3 rows\n",
        "reshaped_tensors"
      ],
      "metadata": {
        "colab": {
          "base_uri": "https://localhost:8080/",
          "height": 176
        },
        "id": "lLGLd3BPt4Wv",
        "outputId": "ee7c8480-77a9-4ab2-fb07-b0b140676d1a"
      },
      "execution_count": 15,
      "outputs": [
        {
          "output_type": "error",
          "ename": "RuntimeError",
          "evalue": "shape '[3, -1]' is invalid for input of size 10",
          "traceback": [
            "\u001b[0;31m---------------------------------------------------------------------------\u001b[0m",
            "\u001b[0;31mRuntimeError\u001b[0m                              Traceback (most recent call last)",
            "\u001b[0;32m<ipython-input-15-8573cb44a756>\u001b[0m in \u001b[0;36m<cell line: 0>\u001b[0;34m()\u001b[0m\n\u001b[0;32m----> 1\u001b[0;31m \u001b[0mreshaped_tensors\u001b[0m \u001b[0;34m=\u001b[0m \u001b[0mmy_tensors\u001b[0m\u001b[0;34m.\u001b[0m\u001b[0mreshape\u001b[0m\u001b[0;34m(\u001b[0m\u001b[0;36m3\u001b[0m\u001b[0;34m,\u001b[0m \u001b[0;34m-\u001b[0m\u001b[0;36m1\u001b[0m\u001b[0;34m)\u001b[0m \u001b[0;31m# again this error because we cannot split data of 10 tensors in 3 rows\u001b[0m\u001b[0;34m\u001b[0m\u001b[0;34m\u001b[0m\u001b[0m\n\u001b[0m\u001b[1;32m      2\u001b[0m \u001b[0mreshaped_tensors\u001b[0m\u001b[0;34m\u001b[0m\u001b[0;34m\u001b[0m\u001b[0m\n",
            "\u001b[0;31mRuntimeError\u001b[0m: shape '[3, -1]' is invalid for input of size 10"
          ]
        }
      ]
    },
    {
      "cell_type": "code",
      "source": [
        "reshaped_tensors = my_tensors.reshape(2, -1)\n",
        "reshaped_tensors"
      ],
      "metadata": {
        "id": "RnU0h1oZuNvR"
      },
      "execution_count": null,
      "outputs": []
    },
    {
      "cell_type": "code",
      "source": [
        "reshaped_tensors = my_tensors.reshape(-1, 2)\n",
        "reshaped_tensors"
      ],
      "metadata": {
        "colab": {
          "base_uri": "https://localhost:8080/"
        },
        "id": "yO8QX0RTuWaf",
        "outputId": "f101308a-7521-4d76-fc24-bed7d14b6014"
      },
      "execution_count": 16,
      "outputs": [
        {
          "output_type": "execute_result",
          "data": {
            "text/plain": [
              "tensor([[0, 1],\n",
              "        [2, 3],\n",
              "        [4, 5],\n",
              "        [6, 7],\n",
              "        [8, 9]])"
            ]
          },
          "metadata": {},
          "execution_count": 16
        }
      ]
    },
    {
      "cell_type": "markdown",
      "source": [
        "### when a value changes in the original tensor then it will be reflected in the reshaped tensor"
      ],
      "metadata": {
        "id": "YGqqvg8Hwn3g"
      }
    },
    {
      "cell_type": "code",
      "source": [
        "original_tensor = torch.arange(10)\n",
        "original_tensor"
      ],
      "metadata": {
        "colab": {
          "base_uri": "https://localhost:8080/"
        },
        "id": "vTaKdjTzud1Y",
        "outputId": "44adc2b2-e5b2-4d01-8ef6-5439e51a50ee"
      },
      "execution_count": 17,
      "outputs": [
        {
          "output_type": "execute_result",
          "data": {
            "text/plain": [
              "tensor([0, 1, 2, 3, 4, 5, 6, 7, 8, 9])"
            ]
          },
          "metadata": {},
          "execution_count": 17
        }
      ]
    },
    {
      "cell_type": "code",
      "source": [
        "reshaped_tensor = original_tensor.reshape(2,5)\n",
        "reshaped_tensor"
      ],
      "metadata": {
        "colab": {
          "base_uri": "https://localhost:8080/"
        },
        "id": "5I3QwzQ7wWLk",
        "outputId": "fc33f427-0cd7-4f0f-db95-893805fbd3ac"
      },
      "execution_count": 18,
      "outputs": [
        {
          "output_type": "execute_result",
          "data": {
            "text/plain": [
              "tensor([[0, 1, 2, 3, 4],\n",
              "        [5, 6, 7, 8, 9]])"
            ]
          },
          "metadata": {},
          "execution_count": 18
        }
      ]
    },
    {
      "cell_type": "code",
      "source": [
        "original_tensor[2] =71298\n",
        "original_tensor"
      ],
      "metadata": {
        "colab": {
          "base_uri": "https://localhost:8080/"
        },
        "id": "0zhro2nwwzS0",
        "outputId": "acf8ae0b-491e-4b2a-fd78-e36df8deb5bb"
      },
      "execution_count": 19,
      "outputs": [
        {
          "output_type": "execute_result",
          "data": {
            "text/plain": [
              "tensor([    0,     1, 71298,     3,     4,     5,     6,     7,     8,     9])"
            ]
          },
          "metadata": {},
          "execution_count": 19
        }
      ]
    },
    {
      "cell_type": "code",
      "source": [
        "reshaped_tensor # value was updated in original tensor, but is reflecting in reshaped tensor as well"
      ],
      "metadata": {
        "colab": {
          "base_uri": "https://localhost:8080/"
        },
        "id": "PR32puuPw9cM",
        "outputId": "c18067e9-1a0e-4f33-f00e-f4e503043734"
      },
      "execution_count": 20,
      "outputs": [
        {
          "output_type": "execute_result",
          "data": {
            "text/plain": [
              "tensor([[    0,     1, 71298,     3,     4],\n",
              "        [    5,     6,     7,     8,     9]])"
            ]
          },
          "metadata": {},
          "execution_count": 20
        }
      ]
    },
    {
      "cell_type": "markdown",
      "source": [
        "## Slices"
      ],
      "metadata": {
        "id": "F6gYDqHpxZhz"
      }
    },
    {
      "cell_type": "code",
      "source": [
        "my_torch = torch.arange(10)\n",
        "my_torch"
      ],
      "metadata": {
        "colab": {
          "base_uri": "https://localhost:8080/"
        },
        "id": "f5qX8xIxxG2K",
        "outputId": "e501d603-06f7-4d6e-9a3c-66468b5db0f1"
      },
      "execution_count": 21,
      "outputs": [
        {
          "output_type": "execute_result",
          "data": {
            "text/plain": [
              "tensor([0, 1, 2, 3, 4, 5, 6, 7, 8, 9])"
            ]
          },
          "metadata": {},
          "execution_count": 21
        }
      ]
    },
    {
      "cell_type": "code",
      "source": [
        "my_torch[7] # grab a specific item"
      ],
      "metadata": {
        "colab": {
          "base_uri": "https://localhost:8080/"
        },
        "id": "_3oPzkyMxhtc",
        "outputId": "7098214d-404b-4e57-ce65-ade071e3346c"
      },
      "execution_count": 22,
      "outputs": [
        {
          "output_type": "execute_result",
          "data": {
            "text/plain": [
              "tensor(7)"
            ]
          },
          "metadata": {},
          "execution_count": 22
        }
      ]
    },
    {
      "cell_type": "code",
      "source": [
        "# slice items from tensors\n",
        "my_reshaped_torch = my_torch.reshape(5,2)\n",
        "my_reshaped_torch"
      ],
      "metadata": {
        "colab": {
          "base_uri": "https://localhost:8080/"
        },
        "id": "0diVdMCaxy01",
        "outputId": "a41fe86c-ffde-4373-b2bc-f97190627e2f"
      },
      "execution_count": 23,
      "outputs": [
        {
          "output_type": "execute_result",
          "data": {
            "text/plain": [
              "tensor([[0, 1],\n",
              "        [2, 3],\n",
              "        [4, 5],\n",
              "        [6, 7],\n",
              "        [8, 9]])"
            ]
          },
          "metadata": {},
          "execution_count": 23
        }
      ]
    },
    {
      "cell_type": "code",
      "source": [
        "# to fetch only second columns items i.e., 1,3,5,7,9\n",
        "my_reshaped_torch[:, 1] # ':' -> we can add range from where to where we need to fetch, and the next parameter '1' tells the index of the column"
      ],
      "metadata": {
        "colab": {
          "base_uri": "https://localhost:8080/"
        },
        "id": "9S7rhVCNyNfg",
        "outputId": "68f5a72f-66ac-4181-d7e2-65675be26e29"
      },
      "execution_count": 24,
      "outputs": [
        {
          "output_type": "execute_result",
          "data": {
            "text/plain": [
              "tensor([1, 3, 5, 7, 9])"
            ]
          },
          "metadata": {},
          "execution_count": 24
        }
      ]
    },
    {
      "cell_type": "code",
      "source": [
        "my_reshaped_torch[1:4, 1] #  ':' -> we can add range from where to where we need to fetch, and the next parameter '1' tells the index of the column"
      ],
      "metadata": {
        "colab": {
          "base_uri": "https://localhost:8080/"
        },
        "id": "FspSVrm64utl",
        "outputId": "a430d03c-59d2-4572-ec45-00109e4248b1"
      },
      "execution_count": 25,
      "outputs": [
        {
          "output_type": "execute_result",
          "data": {
            "text/plain": [
              "tensor([3, 5, 7])"
            ]
          },
          "metadata": {},
          "execution_count": 25
        }
      ]
    },
    {
      "cell_type": "code",
      "source": [
        "# return column of the tensor(my_reshaped_torch)"
      ],
      "metadata": {
        "id": "1i5HijGN5U5x"
      },
      "execution_count": null,
      "outputs": []
    },
    {
      "cell_type": "code",
      "source": [
        "my_reshaped_torch[:, 1:]"
      ],
      "metadata": {
        "colab": {
          "base_uri": "https://localhost:8080/"
        },
        "id": "bTArvbx34-Yi",
        "outputId": "01c69baa-90f9-4599-d706-e84bb106def7"
      },
      "execution_count": 27,
      "outputs": [
        {
          "output_type": "execute_result",
          "data": {
            "text/plain": [
              "tensor([[1],\n",
              "        [3],\n",
              "        [5],\n",
              "        [7],\n",
              "        [9]])"
            ]
          },
          "metadata": {},
          "execution_count": 27
        }
      ]
    },
    {
      "cell_type": "code",
      "source": [],
      "metadata": {
        "id": "dPbv7xGG5lGU"
      },
      "execution_count": null,
      "outputs": []
    }
  ]
}