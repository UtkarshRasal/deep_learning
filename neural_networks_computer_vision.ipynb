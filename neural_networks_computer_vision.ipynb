{
  "nbformat": 4,
  "nbformat_minor": 0,
  "metadata": {
    "colab": {
      "provenance": [],
      "gpuType": "T4",
      "authorship_tag": "ABX9TyNRGW2+++RiX9CSpMLgb/yB",
      "include_colab_link": true
    },
    "kernelspec": {
      "name": "python3",
      "display_name": "Python 3"
    },
    "language_info": {
      "name": "python"
    },
    "accelerator": "GPU"
  },
  "cells": [
    {
      "cell_type": "markdown",
      "metadata": {
        "id": "view-in-github",
        "colab_type": "text"
      },
      "source": [
        "<a href=\"https://colab.research.google.com/github/UtkarshRasal/deep_learning/blob/master/neural_networks_computer_vision.ipynb\" target=\"_parent\"><img src=\"https://colab.research.google.com/assets/colab-badge.svg\" alt=\"Open In Colab\"/></a>"
      ]
    },
    {
      "cell_type": "markdown",
      "source": [
        "# Computer vision\n",
        "\n",
        "* It is the art of teaching a computer to see.\n",
        "* It could involve building a model to classify whether the photo is of a cat or dog (binary classification).\n",
        "* Or either classifying whether the photo is a cat, dog or chicked (binary classification)\n",
        "* Or identifying whether a car appears in the video (object detection)\n",
        "* Or figuring out where different objects can be separated from an image (panoptic segmentation)"
      ],
      "metadata": {
        "id": "80HSrMbD9q1H"
      }
    },
    {
      "cell_type": "markdown",
      "source": [
        "## Topics covered\n",
        "\n",
        "1. Computer vision libraries in pytorch\n",
        "2. Load data\n",
        "3. Prepare data\n",
        "4. Model 0: building a baseline model\n",
        "5. Making predictions and evaluating model 0\n",
        "6. Setup device agnostic code for future models\n",
        "7. Model 1: Adding non-linearity\n",
        "8. Model 2: Convolutional neural network\n",
        "9. Comparing our models\n",
        "10. Evaluating our best model\n",
        "11. Making a confusion matrix\n",
        "12. Saving and loading our best performing model"
      ],
      "metadata": {
        "id": "W4tWLSUu-zeX"
      }
    },
    {
      "cell_type": "markdown",
      "source": [
        "### 1) Computer vision libraries\n",
        "\n",
        "* torchvision - Contains datasets, model architectures and image transformations often used for computer vision problems\n",
        "* torchvision.datasets - In this library we can find a range of datasets for image classification, object detection, image captioning, video classfication\n",
        "* torchvision.models - this contains well-performing and commonly used computer vision model architectures implemented in pytorch.\n",
        "* torchvision.transforms - Often images need to be transformed (turned into numbers/processed/augmented) before being used with a model, common image transformations are found here\n",
        "* torch.utils.data.Dataset - Base dataset class for pytorch\n",
        "* torch.utils.data.DataLoader - Creates a python iterable over a dataset."
      ],
      "metadata": {
        "id": "kLssWauzHgB5"
      }
    },
    {
      "cell_type": "code",
      "source": [
        "import torch\n",
        "from torch import nn\n",
        "\n",
        "import torchvision\n",
        "from torchvision import datasets\n",
        "from torchvision.transforms import ToTensor\n",
        "\n",
        "from matplotlib import pyplot as plt\n"
      ],
      "metadata": {
        "id": "THPPoBUW-aZe"
      },
      "execution_count": 3,
      "outputs": []
    },
    {
      "cell_type": "markdown",
      "source": [
        "### 2) Getting a dataset\n",
        "\n",
        "FashionMNIST\n",
        "\n",
        "To download it, we provide the following parameters:\n",
        "\n",
        "* root: str - which folder do you want to download the data to?\n",
        "* train: Bool - do you want the training or test split?\n",
        "* download: Bool - should the data be downloaded?\n",
        "* transform: torchvision.transforms - what transformations would you like to do on the data?\n",
        "* target_transform - you can transform the targets (labels) if you like too."
      ],
      "metadata": {
        "id": "W8hKvn8bJzLW"
      }
    },
    {
      "cell_type": "code",
      "source": [
        "# setup training data\n",
        "train_data = datasets.FashionMNIST(\n",
        "    root='data', # where to download data to\n",
        "    train=True, # get train data (test data below)\n",
        "    download=True, # download data if it doesn't exist on disk\n",
        "    transform=ToTensor(), # images come as PIL format, we will convert it to tensors\n",
        "    target_transform=None # you can transform labels as well\n",
        ")\n",
        "\n",
        "test_data = datasets.FashionMNIST(\n",
        "    root='data',\n",
        "    train=False, # get test data\n",
        "    download=True,\n",
        "    transform=ToTensor()\n",
        ")"
      ],
      "metadata": {
        "id": "wAm4flMjJP5E",
        "outputId": "aa01420e-cc0f-447c-b387-49a4fa900fbf",
        "colab": {
          "base_uri": "https://localhost:8080/"
        }
      },
      "execution_count": 6,
      "outputs": [
        {
          "output_type": "stream",
          "name": "stdout",
          "text": [
            "Downloading http://fashion-mnist.s3-website.eu-central-1.amazonaws.com/train-images-idx3-ubyte.gz\n",
            "Downloading http://fashion-mnist.s3-website.eu-central-1.amazonaws.com/train-images-idx3-ubyte.gz to data/FashionMNIST/raw/train-images-idx3-ubyte.gz\n"
          ]
        },
        {
          "output_type": "stream",
          "name": "stderr",
          "text": [
            "100%|██████████| 26.4M/26.4M [00:02<00:00, 12.3MB/s]\n"
          ]
        },
        {
          "output_type": "stream",
          "name": "stdout",
          "text": [
            "Extracting data/FashionMNIST/raw/train-images-idx3-ubyte.gz to data/FashionMNIST/raw\n",
            "\n",
            "Downloading http://fashion-mnist.s3-website.eu-central-1.amazonaws.com/train-labels-idx1-ubyte.gz\n",
            "Downloading http://fashion-mnist.s3-website.eu-central-1.amazonaws.com/train-labels-idx1-ubyte.gz to data/FashionMNIST/raw/train-labels-idx1-ubyte.gz\n"
          ]
        },
        {
          "output_type": "stream",
          "name": "stderr",
          "text": [
            "100%|██████████| 29.5k/29.5k [00:00<00:00, 211kB/s]\n"
          ]
        },
        {
          "output_type": "stream",
          "name": "stdout",
          "text": [
            "Extracting data/FashionMNIST/raw/train-labels-idx1-ubyte.gz to data/FashionMNIST/raw\n",
            "\n",
            "Downloading http://fashion-mnist.s3-website.eu-central-1.amazonaws.com/t10k-images-idx3-ubyte.gz\n",
            "Downloading http://fashion-mnist.s3-website.eu-central-1.amazonaws.com/t10k-images-idx3-ubyte.gz to data/FashionMNIST/raw/t10k-images-idx3-ubyte.gz\n"
          ]
        },
        {
          "output_type": "stream",
          "name": "stderr",
          "text": [
            "100%|██████████| 4.42M/4.42M [00:01<00:00, 3.89MB/s]\n"
          ]
        },
        {
          "output_type": "stream",
          "name": "stdout",
          "text": [
            "Extracting data/FashionMNIST/raw/t10k-images-idx3-ubyte.gz to data/FashionMNIST/raw\n",
            "\n",
            "Downloading http://fashion-mnist.s3-website.eu-central-1.amazonaws.com/t10k-labels-idx1-ubyte.gz\n",
            "Downloading http://fashion-mnist.s3-website.eu-central-1.amazonaws.com/t10k-labels-idx1-ubyte.gz to data/FashionMNIST/raw/t10k-labels-idx1-ubyte.gz\n"
          ]
        },
        {
          "output_type": "stream",
          "name": "stderr",
          "text": [
            "100%|██████████| 5.15k/5.15k [00:00<00:00, 9.22MB/s]"
          ]
        },
        {
          "output_type": "stream",
          "name": "stdout",
          "text": [
            "Extracting data/FashionMNIST/raw/t10k-labels-idx1-ubyte.gz to data/FashionMNIST/raw\n",
            "\n"
          ]
        },
        {
          "output_type": "stream",
          "name": "stderr",
          "text": [
            "\n"
          ]
        }
      ]
    },
    {
      "cell_type": "code",
      "source": [],
      "metadata": {
        "id": "5Qer7GrgvmIq"
      },
      "execution_count": null,
      "outputs": []
    }
  ]
}