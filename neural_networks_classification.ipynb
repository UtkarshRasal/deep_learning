{
  "nbformat": 4,
  "nbformat_minor": 0,
  "metadata": {
    "colab": {
      "provenance": [],
      "gpuType": "T4",
      "authorship_tag": "ABX9TyNgCVHuxa+nkASVV9XOT19r",
      "include_colab_link": true
    },
    "kernelspec": {
      "name": "python3",
      "display_name": "Python 3"
    },
    "language_info": {
      "name": "python"
    },
    "accelerator": "GPU"
  },
  "cells": [
    {
      "cell_type": "markdown",
      "metadata": {
        "id": "view-in-github",
        "colab_type": "text"
      },
      "source": [
        "<a href=\"https://colab.research.google.com/github/UtkarshRasal/deep_learning/blob/master/neural_networks_classification.ipynb\" target=\"_parent\"><img src=\"https://colab.research.google.com/assets/colab-badge.svg\" alt=\"Open In Colab\"/></a>"
      ]
    },
    {
      "cell_type": "markdown",
      "source": [
        "# Neural Network Classification\n",
        "\n",
        "* Classification means predicting that the input belongs to which category.\n",
        "* Classification can be of multiple types:-\n",
        "  * Binary Classification - The output will be only one (one of the two items)\n",
        "  * Multi level classification - The will be one of more than two items (like if there are 3 classes, then the output will be 3 having indivisual probabilites and the one of three having highest probability will be chosen as output\n",
        "  * Multilabel - Target can be assigned more than one option\n",
        "* In this colab, we will create a dataset of red and blue dots using sklean make_circles() and will create a model to decide the input belongs to which category.\n"
      ],
      "metadata": {
        "id": "f-PlH9tF_xYc"
      }
    },
    {
      "cell_type": "markdown",
      "source": [
        "## Topics to be covered\n",
        "\n",
        "1. Architecture of neural network.\n",
        "2. Getting binary Classification data ready\n",
        "3. Building a PyTorch Model\n",
        "4. Fitting the model to data (Training)\n",
        "5. Make predictions and evaluating a model\n",
        "6. Improving the model\n",
        "7. Non-linearity\n",
        "8. Replicating non linear functions\n",
        "9. Putting it all together with multi-class classification"
      ],
      "metadata": {
        "id": "ZfGijHLOAalf"
      }
    },
    {
      "cell_type": "markdown",
      "source": [
        "### 1) Architecture of neural networks\n",
        "\n",
        "* Input layer shape - Number of input neurons is same as the number of input features we have (like in our case 2 as we have two inputs - red and blue dots)\n",
        "* Hidden layer - Depends on the type of work we are doing - Min 1 and max unlimited\n",
        "* Hidden layers - number of neurons the hidden layer has (10 to 512)\n",
        "* Output Layer Shape -\n",
        "  * Binary classification - The output neurons is only 1 as the output will be either of the two (red or blue dots in our case)\n",
        "  * Multi-class Classification - The output neurons will be equal to our classes (For example:- classifying image into dog, cat or cow then the output neurons will be 3)\n",
        "* Hidden Layer Activation - Is used to introduce non-linearity. Mostly used ReLU(Rectified Linear Unit)\n",
        "* Output Activation function -\n",
        "  * Binary Classification - Activation function used will be Sigmoid which outputs a probability between 0 and 1. For eg:- in our case if red is 1 and blue is 0, so sigmoid will assign a probality of 0.7 to the output which is closer to 1 so we consider the predicted output to be red\n",
        "  * Multi-class Classification - Activation function used will be SoftMax. As in multi-class classification the output neurons are equal to the classes, Softmax will assign different probabilites to the output classes and the sum of these probabilites will be 1\n",
        "* Loss Function - Binary Cross Entropy (Binary) or Cross Entropy (Multi-class)\n",
        "* Optimizer - SGD (stoichastic Gradient Descent) or Adam"
      ],
      "metadata": {
        "id": "lx9ghByeC2DX"
      }
    },
    {
      "cell_type": "code",
      "source": [
        "# All imports\n",
        "import torch, pandas as pd\n",
        "from torch import nn\n",
        "from matplotlib import pyplot as plt\n",
        "from sklearn.datasets import make_circles"
      ],
      "metadata": {
        "id": "KWWOaGcKGi1X"
      },
      "execution_count": 1,
      "outputs": []
    },
    {
      "cell_type": "markdown",
      "source": [
        "### 2) Get Binary Classification Data Ready"
      ],
      "metadata": {
        "id": "GiMoXMpcF-Cv"
      }
    },
    {
      "cell_type": "code",
      "source": [
        "# sklearn make_circles() -\n",
        "\n",
        "n_samples = 1000\n",
        "\n",
        "X, y = make_circles(n_samples,\n",
        "                    noise=0.3, # little bit of noise to the dots\n",
        "                    random_state=42 # to get the same output every time the function is called\n",
        "                    )\n",
        "\n",
        "# output shape of X -> (n_samples, 2)\n",
        "# output shape of y -> (n_samples)\n",
        "\n",
        "X[:10], y[:10]"
      ],
      "metadata": {
        "id": "N6LTY9Ms_-XL",
        "outputId": "a480ed89-a44b-4c75-f718-a11e91209529",
        "colab": {
          "base_uri": "https://localhost:8080/"
        }
      },
      "execution_count": 3,
      "outputs": [
        {
          "output_type": "execute_result",
          "data": {
            "text/plain": [
              "(array([[ 0.59171471,  0.43674853],\n",
              "        [-0.45745002,  0.36160118],\n",
              "        [-1.01069349,  0.83042101],\n",
              "        [-0.87169639,  0.41407292],\n",
              "        [ 0.48803455, -0.87258708],\n",
              "        [-0.34787447,  1.10307097],\n",
              "        [-0.04600811,  0.83405567],\n",
              "        [ 0.61099394,  0.30660829],\n",
              "        [-0.25531154, -0.87960115],\n",
              "        [ 0.02525466,  1.3009377 ]]),\n",
              " array([1, 1, 1, 1, 0, 1, 1, 1, 1, 0]))"
            ]
          },
          "metadata": {},
          "execution_count": 3
        }
      ]
    },
    {
      "cell_type": "code",
      "source": [],
      "metadata": {
        "id": "E5d0FaV2HdNz"
      },
      "execution_count": null,
      "outputs": []
    }
  ]
}